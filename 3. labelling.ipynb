{
 "cells": [
  {
   "cell_type": "code",
   "execution_count": 1,
   "id": "4ba654c5",
   "metadata": {},
   "outputs": [],
   "source": [
    "import os\n",
    "import numpy as np"
   ]
  },
  {
   "cell_type": "code",
   "execution_count": 2,
   "id": "b296261d",
   "metadata": {},
   "outputs": [],
   "source": [
    "root_dir = \"D:\\FYP\\Video\""
   ]
  },
  {
   "cell_type": "code",
   "execution_count": 4,
   "id": "15d5d835",
   "metadata": {},
   "outputs": [
    {
     "data": {
      "text/plain": [
       "['Actor_01',\n",
       " 'Actor_02',\n",
       " 'Actor_03',\n",
       " 'Actor_04',\n",
       " 'Actor_05',\n",
       " 'Actor_06',\n",
       " 'Actor_07',\n",
       " 'Actor_08',\n",
       " 'Actor_09',\n",
       " 'Actor_10',\n",
       " 'Actor_11',\n",
       " 'Actor_12',\n",
       " 'Actor_13',\n",
       " 'Actor_14',\n",
       " 'Actor_15',\n",
       " 'Actor_16',\n",
       " 'Actor_17',\n",
       " 'Actor_18',\n",
       " 'Actor_19',\n",
       " 'Actor_20',\n",
       " 'Actor_21',\n",
       " 'Actor_22',\n",
       " 'Actor_23',\n",
       " 'Actor_24']"
      ]
     },
     "execution_count": 4,
     "metadata": {},
     "output_type": "execute_result"
    }
   ],
   "source": [
    "os.listdir(root_dir)"
   ]
  },
  {
   "cell_type": "code",
   "execution_count": 7,
   "id": "4356233a",
   "metadata": {},
   "outputs": [],
   "source": [
    "labels = []\n",
    "\n",
    "for i,actor in enumerate(os.listdir(root_dir)):\n",
    "    for filename in os.listdir(os.path.join(root_dir,actor)):\n",
    "        labels.append(int(filename[7]))\n",
    "labels = np.array(labels)"
   ]
  },
  {
   "cell_type": "code",
   "execution_count": 10,
   "id": "7fb00264",
   "metadata": {},
   "outputs": [],
   "source": [
    "np.save(\"./labels\",labels)"
   ]
  },
  {
   "cell_type": "code",
   "execution_count": null,
   "id": "a9ccfc4b",
   "metadata": {},
   "outputs": [],
   "source": []
  }
 ],
 "metadata": {
  "kernelspec": {
   "display_name": "Python 3 (ipykernel)",
   "language": "python",
   "name": "python3"
  },
  "language_info": {
   "codemirror_mode": {
    "name": "ipython",
    "version": 3
   },
   "file_extension": ".py",
   "mimetype": "text/x-python",
   "name": "python",
   "nbconvert_exporter": "python",
   "pygments_lexer": "ipython3",
   "version": "3.11.4"
  }
 },
 "nbformat": 4,
 "nbformat_minor": 5
}
