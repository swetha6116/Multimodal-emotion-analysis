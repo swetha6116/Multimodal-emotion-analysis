{
  "nbformat": 4,
  "nbformat_minor": 0,
  "metadata": {
    "colab": {
      "provenance": []
    },
    "kernelspec": {
      "name": "python3",
      "display_name": "Python 3"
    },
    "language_info": {
      "name": "python"
    }
  },
  "cells": [
    {
      "cell_type": "code",
      "execution_count": null,
      "metadata": {
        "colab": {
          "base_uri": "https://localhost:8080/"
        },
        "id": "VwKnzdJznzyb",
        "outputId": "93d0b058-24ba-4b5a-c8f7-a3b2a2a9217f"
      },
      "outputs": [
        {
          "output_type": "stream",
          "name": "stdout",
          "text": [
            "Mounted at /content/drive\n"
          ]
        }
      ],
      "source": [
        "from google.colab import drive\n",
        "drive.mount('/content/drive',force_remount = True)"
      ]
    },
    {
      "cell_type": "code",
      "source": [
        "import os\n",
        "import numpy as np\n",
        "import pandas as pd\n",
        "import matplotlib.pyplot as plt\n",
        "import cv2\n",
        "import tensorflow as tf\n",
        "from PIL import Image\n",
        "import glob"
      ],
      "metadata": {
        "id": "xisjS_jsoA93"
      },
      "execution_count": null,
      "outputs": []
    },
    {
      "cell_type": "code",
      "source": [
        "AUDIO_TRAIN_DIR = os.path.join('/content/drive/MyDrive/FYP/Code/Emotion-1903/data', 'Audio', 'train')"
      ],
      "metadata": {
        "id": "jNjIL4B-oJFm"
      },
      "execution_count": null,
      "outputs": []
    },
    {
      "cell_type": "code",
      "source": [
        "emotions_classes = {\n",
        "    0: 'neutral',\n",
        "    1: 'calm',\n",
        "    2: 'happy',\n",
        "    3: 'sad',\n",
        "    4: 'angry',\n",
        "    5: 'fearful',\n",
        "    6: 'disgust',\n",
        "    7: 'surprised'\n",
        "}"
      ],
      "metadata": {
        "id": "2z7vo3WPoMRU"
      },
      "execution_count": null,
      "outputs": []
    },
    {
      "cell_type": "code",
      "source": [
        "import numpy as np\n",
        "import librosa.display, os\n",
        "import matplotlib.pyplot as plt\n",
        "%matplotlib inline\n",
        "\n",
        "def create_spectrogram(audio_file, image_file):\n",
        "    fig = plt.figure()\n",
        "    ax = fig.add_subplot(1, 1, 1)\n",
        "    fig.subplots_adjust(left=0, right=1, bottom=0, top=1)\n",
        "\n",
        "    y, sr = librosa.load(audio_file)\n",
        "    ms = librosa.feature.melspectrogram(y=y, sr=sr)\n",
        "    log_ms = librosa.power_to_db(ms, ref=np.max)\n",
        "    librosa.display.specshow(log_ms, sr=sr)\n",
        "\n",
        "    # Add colorbar\n",
        "    plt.colorbar(format='%+2.0f dB')\n",
        "\n",
        "    fig.savefig(image_file)\n",
        "    plt.close(fig)\n",
        "\n",
        "def create_pngs_from_wavs(input_path, output_path):\n",
        "    if not os.path.exists(output_path):\n",
        "        os.makedirs(output_path)\n",
        "\n",
        "    dir = os.listdir(input_path)\n",
        "\n",
        "    for i, file in enumerate(dir):\n",
        "        input_file = os.path.join(input_path, file)\n",
        "        output_file = os.path.join(output_path, file.replace('.wav', '.png'))\n",
        "        create_spectrogram(input_file, output_file)"
      ],
      "metadata": {
        "id": "U4yhJsSyoOqS"
      },
      "execution_count": null,
      "outputs": []
    },
    {
      "cell_type": "code",
      "source": [
        "AUDIO_SPECTROGRAMS_DIR = '/content/drive/MyDrive/FYP/Code/Emotion-1903/data/Audio/Spectrograms'"
      ],
      "metadata": {
        "id": "G-KFjv0coXEp"
      },
      "execution_count": null,
      "outputs": []
    },
    {
      "cell_type": "code",
      "source": [
        "for emotion in emotions_classes:\n",
        "  aud_train = os.path.join(AUDIO_SPECTROGRAMS_DIR, emotions_classes[emotion])\n",
        "  os.makedirs(aud_train)"
      ],
      "metadata": {
        "id": "BvpuQS1Gob7a"
      },
      "execution_count": null,
      "outputs": []
    },
    {
      "cell_type": "code",
      "source": [
        "for key, value in emotions_classes.items():\n",
        "  # Construct the input and output directories based on the emotion class\n",
        "    input_dir = os.path.join(AUDIO_TRAIN_DIR, value)\n",
        "    output_dir = os.path.join(AUDIO_SPECTROGRAMS_DIR, value)\n",
        "\n",
        "    # print(input_dir, output_dir)\n",
        "    create_pngs_from_wavs(input_dir, output_dir)"
      ],
      "metadata": {
        "id": "LN2naw0xorfX"
      },
      "execution_count": null,
      "outputs": []
    }
  ]
}